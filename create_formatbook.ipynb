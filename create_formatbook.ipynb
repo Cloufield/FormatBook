{
 "cells": [
  {
   "cell_type": "code",
   "execution_count": 8,
   "metadata": {
    "ExecuteTime": {
     "end_time": "2022-07-27T15:26:31.279297Z",
     "start_time": "2022-07-27T15:26:31.277514Z"
    }
   },
   "outputs": [],
   "source": [
    "import json"
   ]
  },
  {
   "cell_type": "code",
   "execution_count": 9,
   "metadata": {
    "ExecuteTime": {
     "end_time": "2022-07-27T15:26:31.298668Z",
     "start_time": "2022-07-27T15:26:31.280627Z"
    }
   },
   "outputs": [],
   "source": [
    "import os"
   ]
  },
  {
   "cell_type": "code",
   "execution_count": 10,
   "metadata": {
    "ExecuteTime": {
     "end_time": "2022-07-27T15:39:57.453156Z",
     "start_time": "2022-07-27T15:39:57.449044Z"
    }
   },
   "outputs": [
    {
     "name": "stdout",
     "output_type": "stream",
     "text": [
      "metal.json\n",
      "template.json\n",
      "fastgwa.json\n",
      "mrmega.json\n",
      "regenie.json\n",
      "gwaslab.json\n",
      "saige.json\n",
      "plink.json\n",
      "pgscatalog.json\n",
      "ssf.json\n",
      "gwascatalog.json\n",
      "plink2.json\n"
     ]
    }
   ],
   "source": [
    "alldic={}\n",
    "for i in os.listdir(\"./formats/\"):\n",
    "    if i[-4:]==\"json\":\n",
    "        print(i)\n",
    "        with open(\"./formats/\"+i) as f:\n",
    "            dic=json.load(f)\n",
    "            alldic[i[:-5]]=dic"
   ]
  },
  {
   "cell_type": "code",
   "execution_count": 11,
   "metadata": {
    "ExecuteTime": {
     "end_time": "2022-07-27T15:39:58.331420Z",
     "start_time": "2022-07-27T15:39:58.328489Z"
    }
   },
   "outputs": [
    {
     "data": {
      "text/plain": [
       "{'metal': {'meta_data': {'format_name': 'metal',\n",
       "   'format_source': 'https://genome.sph.umich.edu/wiki/METAL_Documentation',\n",
       "   'format_version': '20220726'},\n",
       "  'format_dict': {'MarkerName': 'SNPID',\n",
       "   'Allele1': 'EA',\n",
       "   'Allele2': 'NEA',\n",
       "   'Freq1': 'EAF',\n",
       "   'Effect': 'BETA',\n",
       "   'StdErr': 'SE',\n",
       "   'P-value': 'P',\n",
       "   'Direction': 'DIRECTION'}},\n",
       " 'template': {'meta_data': {'format_name': '',\n",
       "   'format_source': '',\n",
       "   'format_version': '20220726'},\n",
       "  'format_dict': {'': 'OR_95U'}},\n",
       " 'fastgwa': {'meta_data': {'format_name': 'fastgwa',\n",
       "   'format_source': 'https://yanglab.westlake.edu.cn/software/gcta/#fastGWA',\n",
       "   'format_source2': 'https://yanglab.westlake.edu.cn/software/gcta/#fastGWA-GLMM',\n",
       "   'format_version': '20220726'},\n",
       "  'format_dict': {'SNP': 'SNPID',\n",
       "   'CHR': 'CHR',\n",
       "   'POS': 'POS',\n",
       "   'A2': 'NEA',\n",
       "   'A1': 'EA',\n",
       "   'AF1': 'EAF',\n",
       "   'BETA': 'BETA',\n",
       "   'SE': 'SE',\n",
       "   'P': 'P'}},\n",
       " 'mrmega': {'meta_data': {'format_name': '',\n",
       "   'format_source': '',\n",
       "   'format_version': '20220726'},\n",
       "  'format_dict': {'': 'OR_95U'}},\n",
       " 'regenie': {'meta_data': {'format_name': '',\n",
       "   'format_source': '',\n",
       "   'format_version': '20220726'},\n",
       "  'format_dict': {'': 'OR_95U'}},\n",
       " 'gwaslab': {'meta_data': {'format_name': 'gwaslab',\n",
       "   'format_source': 'https://cloufield.github.io/gwaslab/',\n",
       "   'format_version': '20220729_v3'},\n",
       "  'format_dict': {'SNPID': 'SNPID',\n",
       "   'rsID': 'rsID',\n",
       "   'CHR': 'CHR',\n",
       "   'POS': 'POS',\n",
       "   'NEA': 'NEA',\n",
       "   'EA': 'EA',\n",
       "   'N': 'N',\n",
       "   'BETA': 'BETA',\n",
       "   'SE': 'SE',\n",
       "   'P': 'P',\n",
       "   'INFO': 'INFO',\n",
       "   'OR': 'OR',\n",
       "   'OR_95L': 'OR_95L',\n",
       "   'OR_95U': 'OR_95U',\n",
       "   'MLOG10': 'MLOG10',\n",
       "   'CHISQ': 'CHISQ',\n",
       "   'Z': 'Z',\n",
       "   'DIRECTION': 'DIRECTION',\n",
       "   'STATUS': 'STATUS'}},\n",
       " 'saige': {'meta_data': {'format_name': '',\n",
       "   'format_source': '',\n",
       "   'format_version': '20220726'},\n",
       "  'format_dict': {'': 'OR_95U'}},\n",
       " 'plink': {'meta_data': {'format_name': '',\n",
       "   'format_source': '',\n",
       "   'format_version': '20220726'},\n",
       "  'format_dict': {'': 'OR_95U'}},\n",
       " 'pgscatalog': {'meta_data': {'format_name': '',\n",
       "   'format_source': '',\n",
       "   'format_version': '20220726'},\n",
       "  'format_dict': {'': 'OR_95U'}},\n",
       " 'ssf': {'meta_data': {'format_name': 'ssf', 'format_version': 20220726},\n",
       "  'format_dict': {'variant_id': 'SNPID',\n",
       "   'rsid': 'rsID',\n",
       "   'chromosome': 'CHR',\n",
       "   'bas_pair_location': 'POS',\n",
       "   'other_allele': 'NEA',\n",
       "   'effect_allele': 'EA',\n",
       "   'n': 'N',\n",
       "   'beta': 'BETA',\n",
       "   'standard_error': 'SE',\n",
       "   'p_value': 'P',\n",
       "   'info': 'INFO',\n",
       "   'odds_ratio': 'OR',\n",
       "   'ci_lower': 'OR_95L',\n",
       "   'ci_upper': 'OR_95U'}},\n",
       " 'gwascatalog': {'meta_data': {'format_name': '',\n",
       "   'format_source': '',\n",
       "   'format_version': '20220726'},\n",
       "  'format_dict': {'': 'OR_95U'}},\n",
       " 'plink2': {'meta_data': {'format_name': '',\n",
       "   'format_source': '',\n",
       "   'format_version': '20220726'},\n",
       "  'format_dict': {'': 'OR_95U'}}}"
      ]
     },
     "execution_count": 11,
     "metadata": {},
     "output_type": "execute_result"
    }
   ],
   "source": [
    "alldic"
   ]
  },
  {
   "cell_type": "code",
   "execution_count": 12,
   "metadata": {
    "ExecuteTime": {
     "end_time": "2022-07-27T15:26:31.459509Z",
     "start_time": "2022-07-27T15:26:30.872Z"
    }
   },
   "outputs": [],
   "source": [
    "with open('./formatbook.json', 'w') as f:\n",
    "    json.dump(alldic,f,indent=4)"
   ]
  },
  {
   "cell_type": "code",
   "execution_count": 13,
   "metadata": {
    "ExecuteTime": {
     "end_time": "2022-07-27T15:26:31.460143Z",
     "start_time": "2022-07-27T15:26:30.873Z"
    }
   },
   "outputs": [],
   "source": [
    "book=json.load(open(\"formatbook.json\"))"
   ]
  },
  {
   "cell_type": "code",
   "execution_count": 14,
   "metadata": {
    "ExecuteTime": {
     "end_time": "2022-07-27T15:26:31.460698Z",
     "start_time": "2022-07-27T15:26:30.873Z"
    }
   },
   "outputs": [
    {
     "data": {
      "text/plain": [
       "{'metal': {'meta_data': {'format_name': 'metal',\n",
       "   'format_source': 'https://genome.sph.umich.edu/wiki/METAL_Documentation',\n",
       "   'format_version': '20220726'},\n",
       "  'format_dict': {'MarkerName': 'SNPID',\n",
       "   'Allele1': 'EA',\n",
       "   'Allele2': 'NEA',\n",
       "   'Freq1': 'EAF',\n",
       "   'Effect': 'BETA',\n",
       "   'StdErr': 'SE',\n",
       "   'P-value': 'P',\n",
       "   'Direction': 'DIRECTION'}},\n",
       " 'template': {'meta_data': {'format_name': '',\n",
       "   'format_source': '',\n",
       "   'format_version': '20220726'},\n",
       "  'format_dict': {'': 'OR_95U'}},\n",
       " 'fastgwa': {'meta_data': {'format_name': 'fastgwa',\n",
       "   'format_source': 'https://yanglab.westlake.edu.cn/software/gcta/#fastGWA',\n",
       "   'format_source2': 'https://yanglab.westlake.edu.cn/software/gcta/#fastGWA-GLMM',\n",
       "   'format_version': '20220726'},\n",
       "  'format_dict': {'SNP': 'SNPID',\n",
       "   'CHR': 'CHR',\n",
       "   'POS': 'POS',\n",
       "   'A2': 'NEA',\n",
       "   'A1': 'EA',\n",
       "   'AF1': 'EAF',\n",
       "   'BETA': 'BETA',\n",
       "   'SE': 'SE',\n",
       "   'P': 'P'}},\n",
       " 'mrmega': {'meta_data': {'format_name': '',\n",
       "   'format_source': '',\n",
       "   'format_version': '20220726'},\n",
       "  'format_dict': {'': 'OR_95U'}},\n",
       " 'regenie': {'meta_data': {'format_name': '',\n",
       "   'format_source': '',\n",
       "   'format_version': '20220726'},\n",
       "  'format_dict': {'': 'OR_95U'}},\n",
       " 'gwaslab': {'meta_data': {'format_name': 'gwaslab',\n",
       "   'format_source': 'https://cloufield.github.io/gwaslab/',\n",
       "   'format_version': '20220729_v3'},\n",
       "  'format_dict': {'SNPID': 'SNPID',\n",
       "   'rsID': 'rsID',\n",
       "   'CHR': 'CHR',\n",
       "   'POS': 'POS',\n",
       "   'NEA': 'NEA',\n",
       "   'EA': 'EA',\n",
       "   'N': 'N',\n",
       "   'BETA': 'BETA',\n",
       "   'SE': 'SE',\n",
       "   'P': 'P',\n",
       "   'INFO': 'INFO',\n",
       "   'OR': 'OR',\n",
       "   'OR_95L': 'OR_95L',\n",
       "   'OR_95U': 'OR_95U',\n",
       "   'MLOG10': 'MLOG10',\n",
       "   'CHISQ': 'CHISQ',\n",
       "   'Z': 'Z',\n",
       "   'DIRECTION': 'DIRECTION',\n",
       "   'STATUS': 'STATUS'}},\n",
       " 'saige': {'meta_data': {'format_name': '',\n",
       "   'format_source': '',\n",
       "   'format_version': '20220726'},\n",
       "  'format_dict': {'': 'OR_95U'}},\n",
       " 'plink': {'meta_data': {'format_name': '',\n",
       "   'format_source': '',\n",
       "   'format_version': '20220726'},\n",
       "  'format_dict': {'': 'OR_95U'}},\n",
       " 'pgscatalog': {'meta_data': {'format_name': '',\n",
       "   'format_source': '',\n",
       "   'format_version': '20220726'},\n",
       "  'format_dict': {'': 'OR_95U'}},\n",
       " 'ssf': {'meta_data': {'format_name': 'ssf', 'format_version': 20220726},\n",
       "  'format_dict': {'variant_id': 'SNPID',\n",
       "   'rsid': 'rsID',\n",
       "   'chromosome': 'CHR',\n",
       "   'bas_pair_location': 'POS',\n",
       "   'other_allele': 'NEA',\n",
       "   'effect_allele': 'EA',\n",
       "   'n': 'N',\n",
       "   'beta': 'BETA',\n",
       "   'standard_error': 'SE',\n",
       "   'p_value': 'P',\n",
       "   'info': 'INFO',\n",
       "   'odds_ratio': 'OR',\n",
       "   'ci_lower': 'OR_95L',\n",
       "   'ci_upper': 'OR_95U'}},\n",
       " 'gwascatalog': {'meta_data': {'format_name': '',\n",
       "   'format_source': '',\n",
       "   'format_version': '20220726'},\n",
       "  'format_dict': {'': 'OR_95U'}},\n",
       " 'plink2': {'meta_data': {'format_name': '',\n",
       "   'format_source': '',\n",
       "   'format_version': '20220726'},\n",
       "  'format_dict': {'': 'OR_95U'}}}"
      ]
     },
     "execution_count": 14,
     "metadata": {},
     "output_type": "execute_result"
    }
   ],
   "source": [
    "book"
   ]
  },
  {
   "cell_type": "code",
   "execution_count": null,
   "metadata": {},
   "outputs": [],
   "source": []
  },
  {
   "cell_type": "code",
   "execution_count": null,
   "metadata": {},
   "outputs": [],
   "source": []
  }
 ],
 "metadata": {
  "kernelspec": {
   "display_name": "Python 3",
   "language": "python",
   "name": "python3"
  },
  "language_info": {
   "codemirror_mode": {
    "name": "ipython",
    "version": 3
   },
   "file_extension": ".py",
   "mimetype": "text/x-python",
   "name": "python",
   "nbconvert_exporter": "python",
   "pygments_lexer": "ipython3",
   "version": "3.8.3"
  },
  "toc": {
   "base_numbering": 1,
   "nav_menu": {},
   "number_sections": true,
   "sideBar": true,
   "skip_h1_title": false,
   "title_cell": "Table of Contents",
   "title_sidebar": "Contents",
   "toc_cell": false,
   "toc_position": {},
   "toc_section_display": true,
   "toc_window_display": false
  }
 },
 "nbformat": 4,
 "nbformat_minor": 4
}
