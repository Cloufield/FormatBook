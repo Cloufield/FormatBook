{
 "cells": [
  {
   "cell_type": "code",
   "execution_count": 1,
   "metadata": {
    "ExecuteTime": {
     "end_time": "2022-07-27T15:26:31.279297Z",
     "start_time": "2022-07-27T15:26:31.277514Z"
    }
   },
   "outputs": [],
   "source": [
    "import json"
   ]
  },
  {
   "cell_type": "code",
   "execution_count": 2,
   "metadata": {
    "ExecuteTime": {
     "end_time": "2022-07-27T15:26:31.298668Z",
     "start_time": "2022-07-27T15:26:31.280627Z"
    }
   },
   "outputs": [],
   "source": [
    "import os"
   ]
  },
  {
   "cell_type": "code",
   "execution_count": 19,
   "metadata": {
    "ExecuteTime": {
     "end_time": "2022-07-27T15:39:57.453156Z",
     "start_time": "2022-07-27T15:39:57.449044Z"
    }
   },
   "outputs": [
    {
     "name": "stdout",
     "output_type": "stream",
     "text": [
      "ssf.json\n"
     ]
    }
   ],
   "source": [
    "alldic={}\n",
    "for i in os.listdir(\"./formats/\"):\n",
    "    if i==\"ssf.json\":\n",
    "        print(i)\n",
    "        with open(\"./formats/\"+i) as f:\n",
    "            dic=json.load(f)\n",
    "            alldic[i[:-5]]=dic"
   ]
  },
  {
   "cell_type": "code",
   "execution_count": 20,
   "metadata": {
    "ExecuteTime": {
     "end_time": "2022-07-27T15:39:58.331420Z",
     "start_time": "2022-07-27T15:39:58.328489Z"
    }
   },
   "outputs": [
    {
     "data": {
      "text/plain": [
       "{'ssf': {'meta_data': {'format_name': 'ssf', 'format_version': 20220726},\n",
       "  'format_dict': {'variant_id': 'SNPID',\n",
       "   'rsid': 'rsID',\n",
       "   'chromosome': 'CHR',\n",
       "   'bas_pair_location': 'POS',\n",
       "   'other_allele': 'NEA',\n",
       "   'effect_allele': 'EA',\n",
       "   'n': 'N',\n",
       "   'beta': 'BETA',\n",
       "   'standard_error': 'SE',\n",
       "   'p_value': 'P',\n",
       "   'info': 'INFO',\n",
       "   'odds_ratio': 'OR',\n",
       "   'ci_lower': 'OR_95L',\n",
       "   'ci_upper': 'OR_95U'}}}"
      ]
     },
     "execution_count": 20,
     "metadata": {},
     "output_type": "execute_result"
    }
   ],
   "source": [
    "alldic"
   ]
  },
  {
   "cell_type": "code",
   "execution_count": null,
   "metadata": {
    "ExecuteTime": {
     "end_time": "2022-07-27T15:26:31.459509Z",
     "start_time": "2022-07-27T15:26:30.872Z"
    }
   },
   "outputs": [],
   "source": [
    "with open('./formatbook.json', 'w') as f:\n",
    "    json.dump(alldic,f,indent=4)"
   ]
  },
  {
   "cell_type": "code",
   "execution_count": null,
   "metadata": {
    "ExecuteTime": {
     "end_time": "2022-07-27T15:26:31.460143Z",
     "start_time": "2022-07-27T15:26:30.873Z"
    }
   },
   "outputs": [],
   "source": [
    "book=json.load(open(\"formatbook.json\"))"
   ]
  },
  {
   "cell_type": "code",
   "execution_count": null,
   "metadata": {
    "ExecuteTime": {
     "end_time": "2022-07-27T15:26:31.460698Z",
     "start_time": "2022-07-27T15:26:30.873Z"
    }
   },
   "outputs": [],
   "source": [
    "book[\"metal\"]"
   ]
  },
  {
   "cell_type": "code",
   "execution_count": null,
   "metadata": {},
   "outputs": [],
   "source": []
  }
 ],
 "metadata": {
  "kernelspec": {
   "display_name": "Python 3",
   "language": "python",
   "name": "python3"
  },
  "language_info": {
   "codemirror_mode": {
    "name": "ipython",
    "version": 3
   },
   "file_extension": ".py",
   "mimetype": "text/x-python",
   "name": "python",
   "nbconvert_exporter": "python",
   "pygments_lexer": "ipython3",
   "version": "3.8.8"
  },
  "toc": {
   "base_numbering": 1,
   "nav_menu": {},
   "number_sections": true,
   "sideBar": true,
   "skip_h1_title": false,
   "title_cell": "Table of Contents",
   "title_sidebar": "Contents",
   "toc_cell": false,
   "toc_position": {},
   "toc_section_display": true,
   "toc_window_display": false
  }
 },
 "nbformat": 4,
 "nbformat_minor": 4
}
