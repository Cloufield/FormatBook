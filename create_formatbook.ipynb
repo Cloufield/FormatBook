{
 "cells": [
  {
   "cell_type": "code",
   "execution_count": 34,
   "metadata": {},
   "outputs": [],
   "source": [
    "import json"
   ]
  },
  {
   "cell_type": "code",
   "execution_count": 35,
   "metadata": {},
   "outputs": [],
   "source": [
    "import os"
   ]
  },
  {
   "cell_type": "code",
   "execution_count": 36,
   "metadata": {},
   "outputs": [
    {
     "name": "stdout",
     "output_type": "stream",
     "text": [
      "{'_name': 'metal', '_source': '#https://genome.sph.umich.edu/wiki/METAL_Documentation', 'MarkerName': 'SNPID', 'Allele1': 'EA', 'Allele2': 'NEA', 'Freq1': 'EAF', 'Effect': 'BETA', 'StdErr': 'SE', 'P-value': 'P', 'Direction': 'DIRECTION'}\n"
     ]
    }
   ],
   "source": [
    "alldic={}\n",
    "for i in os.listdir(\"./formats/\"):\n",
    "    dic=json.load(open(\"./formats/\"+i))\n",
    "    print(dic)\n",
    "    alldic[i[:-5]]=dic"
   ]
  },
  {
   "cell_type": "code",
   "execution_count": 37,
   "metadata": {},
   "outputs": [
    {
     "data": {
      "text/plain": [
       "{'metal': {'_name': 'metal',\n",
       "  '_source': '#https://genome.sph.umich.edu/wiki/METAL_Documentation',\n",
       "  'MarkerName': 'SNPID',\n",
       "  'Allele1': 'EA',\n",
       "  'Allele2': 'NEA',\n",
       "  'Freq1': 'EAF',\n",
       "  'Effect': 'BETA',\n",
       "  'StdErr': 'SE',\n",
       "  'P-value': 'P',\n",
       "  'Direction': 'DIRECTION'}}"
      ]
     },
     "execution_count": 37,
     "metadata": {},
     "output_type": "execute_result"
    }
   ],
   "source": [
    "alldic"
   ]
  },
  {
   "cell_type": "code",
   "execution_count": 38,
   "metadata": {},
   "outputs": [],
   "source": [
    "with open('./formatbook.json', 'w') as f:\n",
    "    json.dump(alldic,f,indent=4)"
   ]
  },
  {
   "cell_type": "code",
   "execution_count": 39,
   "metadata": {},
   "outputs": [],
   "source": [
    "book=json.load(open(\"formatbook.json\"))"
   ]
  },
  {
   "cell_type": "code",
   "execution_count": 40,
   "metadata": {},
   "outputs": [
    {
     "data": {
      "text/plain": [
       "{'_name': 'metal',\n",
       " '_source': '#https://genome.sph.umich.edu/wiki/METAL_Documentation',\n",
       " 'MarkerName': 'SNPID',\n",
       " 'Allele1': 'EA',\n",
       " 'Allele2': 'NEA',\n",
       " 'Freq1': 'EAF',\n",
       " 'Effect': 'BETA',\n",
       " 'StdErr': 'SE',\n",
       " 'P-value': 'P',\n",
       " 'Direction': 'DIRECTION'}"
      ]
     },
     "execution_count": 40,
     "metadata": {},
     "output_type": "execute_result"
    }
   ],
   "source": [
    "book[\"metal\"]"
   ]
  },
  {
   "cell_type": "code",
   "execution_count": null,
   "metadata": {},
   "outputs": [],
   "source": []
  }
 ],
 "metadata": {
  "kernelspec": {
   "display_name": "Python 3",
   "language": "python",
   "name": "python3"
  },
  "language_info": {
   "codemirror_mode": {
    "name": "ipython",
    "version": 3
   },
   "file_extension": ".py",
   "mimetype": "text/x-python",
   "name": "python",
   "nbconvert_exporter": "python",
   "pygments_lexer": "ipython3",
   "version": "3.8.3"
  }
 },
 "nbformat": 4,
 "nbformat_minor": 4
}
